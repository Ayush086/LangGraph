{
 "cells": [
  {
   "cell_type": "code",
   "execution_count": 4,
   "id": "6600c05e",
   "metadata": {},
   "outputs": [],
   "source": [
    "from langgraph.graph import StateGraph, START, END\n",
    "from typing import TypedDict, Literal\n"
   ]
  },
  {
   "cell_type": "code",
   "execution_count": 2,
   "id": "1e3cf7f8",
   "metadata": {},
   "outputs": [],
   "source": [
    "class QuadState(TypedDict):\n",
    "    # coefficients\n",
    "    a: int\n",
    "    b: int\n",
    "    c: int\n",
    "\n",
    "    equation: str\n",
    "    discriminant: float\n",
    "    result: str # roots\n"
   ]
  },
  {
   "cell_type": "code",
   "execution_count": 42,
   "id": "9b34e8a2",
   "metadata": {},
   "outputs": [],
   "source": [
    "def show_equation(state: QuadState):\n",
    "    valB = state['b']\n",
    "    valC = state['c']\n",
    "    \n",
    "    equation = f\"{state['a']}x^2\"\n",
    "    \n",
    "    if valB > 0: equation += f\" + {valB}x\"\n",
    "    elif valB < 0: equation += f\" - {abs(valB)}x\"\n",
    "    \n",
    "    if valC > 0: equation += f\" + {valC}\"\n",
    "    elif valC < 0: equation += f\" - {abs(valC)}\"\n",
    "    \n",
    "    # edge case\n",
    "    if state['a'] == 0:\n",
    "        if valB == 0:\n",
    "            equation = str(valC)\n",
    "        else:\n",
    "            equation = f\"{valB}x\" + (f\" + {valC}\" if valC > 0 else f\" - {abs(valC)}\" if valC < 0 else \"\")\n",
    "\n",
    "    return {'equation': equation}\n",
    "\n",
    "def calculate_discriminant(state: QuadState):\n",
    "    d = state['b']**2 - (4*state['a']*state['c'])\n",
    "    return {'discriminant': d}\n"
   ]
  },
  {
   "cell_type": "code",
   "execution_count": 47,
   "id": "aefbeb8c",
   "metadata": {},
   "outputs": [],
   "source": [
    "def real_roots(state: QuadState):\n",
    "    root1 = (-state['b'] + state['discriminant']**(0.5))/2*state['a']\n",
    "    root2 = (-state['b'] - state['discriminant']**(0.5))/2*state['a']\n",
    "    \n",
    "    return {\n",
    "        'result': f\"Roots are {root1} and {root2}\"\n",
    "    }\n",
    "    \n",
    "def same_roots(state: QuadState):\n",
    "    root = (-state['b'])/2*state['a']\n",
    "    \n",
    "    return {\n",
    "        'result': f\"Root is {root}\"\n",
    "    }\n",
    "def complex_roots(state: QuadState):\n",
    "    return {\n",
    "        'result': f\"No real roots\"\n",
    "    }\n"
   ]
  },
  {
   "cell_type": "code",
   "execution_count": 49,
   "id": "1c21d824",
   "metadata": {},
   "outputs": [],
   "source": [
    "def check_discriminant_condition(state: QuadState) -> Literal['real_roots', 'same_roots', 'complex_roots']:\n",
    "    if state['discriminant'] > 0:\n",
    "        return 'real_roots'\n",
    "    elif state['discriminant'] == 0: \n",
    "        return 'same_roots'\n",
    "    return \"complex_roots\"\n"
   ]
  },
  {
   "cell_type": "code",
   "execution_count": 54,
   "id": "80339886",
   "metadata": {},
   "outputs": [],
   "source": [
    "graph = StateGraph(QuadState)\n",
    "\n",
    "graph.add_node('show_equation', show_equation)\n",
    "graph.add_node('calc_discriminant', calculate_discriminant)\n",
    "graph.add_node('real_roots', real_roots)\n",
    "graph.add_node('same_roots', same_roots)\n",
    "graph.add_node('complex_roots', complex_roots)\n",
    "\n",
    "graph.add_edge(START, 'show_equation')\n",
    "graph.add_edge('show_equation', 'calc_discriminant')\n",
    "\n",
    "# conditional edges\n",
    "graph.add_conditional_edges('calc_discriminant', check_discriminant_condition)\n",
    "graph.add_edge('real_roots', END)\n",
    "graph.add_edge('same_roots', END)\n",
    "graph.add_edge('complex_roots', END)\n",
    "\n",
    "\n",
    "wf = graph.compile()\n"
   ]
  },
  {
   "cell_type": "code",
   "execution_count": 55,
   "id": "12476a98",
   "metadata": {},
   "outputs": [
    {
     "data": {
      "image/png": "[encoded data removed]",
      "text/plain": [
       "<langgraph.graph.state.CompiledStateGraph object at 0x000001F30413DDD0>"
      ]
     },
     "execution_count": 55,
     "metadata": {},
     "output_type": "execute_result"
    }
   ],
   "source": [
    "wf\n"
   ]
  },
  {
   "cell_type": "code",
   "execution_count": 58,
   "id": "e18e827d",
   "metadata": {},
   "outputs": [
    {
     "data": {
      "text/plain": [
       "{'a': -2,\n",
       " 'b': 5,\n",
       " 'c': 16,\n",
       " 'equation': '-2x^2 + 5x + 16',\n",
       " 'discriminant': 153,\n",
       " 'result': 'Roots are -7.369316876852981 and 17.36931687685298'}"
      ]
     },
     "execution_count": 58,
     "metadata": {},
     "output_type": "execute_result"
    }
   ],
   "source": [
    "initial_state = {\n",
    "    'a': -2,\n",
    "    'b': 5,\n",
    "    'c': 16\n",
    "}\n",
    "wf.invoke(initial_state)\n"
   ]
  },
  {
   "cell_type": "code",
   "execution_count": null,
   "id": "54d97ed8",
   "metadata": {},
   "outputs": [],
   "source": []
  },
  {
   "cell_type": "code",
   "execution_count": null,
   "id": "8edf4b8c",
   "metadata": {},
   "outputs": [],
   "source": []
  }
 ],
 "metadata": {
  "kernelspec": {
   "display_name": ".venv (3.11.7)",
   "language": "python",
   "name": "python3"
  },
  "language_info": {
   "codemirror_mode": {
    "name": "ipython",
    "version": 3
   },
   "file_extension": ".py",
   "mimetype": "text/x-python",
   "name": "python",
   "nbconvert_exporter": "python",
   "pygments_lexer": "ipython3",
   "version": "3.11.7"
  }
 },
 "nbformat": 4,
 "nbformat_minor": 5
}
