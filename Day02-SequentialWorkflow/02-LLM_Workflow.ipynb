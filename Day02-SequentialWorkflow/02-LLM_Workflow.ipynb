{
 "cells": [
  {
   "cell_type": "markdown",
   "id": "41d8cf93",
   "metadata": {},
   "source": [
    "# LLM Workflow\n"
   ]
  },
  {
   "cell_type": "code",
   "execution_count": 1,
   "id": "53cf81e7",
   "metadata": {},
   "outputs": [],
   "source": [
    "from langgraph.graph import StateGraph, START, END\n",
    "from typing import TypedDict\n"
   ]
  },
  {
   "cell_type": "code",
   "execution_count": 2,
   "id": "91d510eb",
   "metadata": {},
   "outputs": [],
   "source": [
    "class LLMState(TypedDict):\n",
    "    question: str\n",
    "    answer: str\n"
   ]
  },
  {
   "cell_type": "code",
   "execution_count": 4,
   "id": "4c630aa8",
   "metadata": {},
   "outputs": [],
   "source": [
    "from langchain_cohere import ChatCohere\n",
    "from dotenv import load_dotenv\n",
    "\n",
    "load_dotenv()\n",
    "llm = ChatCohere(model='command-r')\n",
    "\n",
    "def find_answer(state: LLMState) -> LLMState:\n",
    "    question = state['question']\n",
    "    \n",
    "    prompt = f\"Answer the following Question: {question}\"\n",
    "    \n",
    "    state['answer'] = llm.invoke(prompt).content\n",
    "    return state\n"
   ]
  },
  {
   "cell_type": "code",
   "execution_count": 5,
   "id": "9b1cd3b6",
   "metadata": {},
   "outputs": [],
   "source": [
    "graph = StateGraph(LLMState)\n",
    "\n",
    "graph.add_node('llm_qa', find_answer)\n",
    "\n",
    "graph.add_edge(START, 'llm_qa')\n",
    "graph.add_edge('llm_qa', END)\n",
    "\n",
    "workflow = graph.compile()\n"
   ]
  },
  {
   "cell_type": "code",
   "execution_count": 7,
   "id": "a9fc6dad",
   "metadata": {},
   "outputs": [
    {
     "data": {
      "text/plain": [
       "{'question': 'tell me the distance between and earth and mars',\n",
       " 'answer': 'The distance between Earth and Mars varies greatly as they orbit around the Sun. The shortest distance ever recorded between the two planets is approximately 56 million kilometers, which occurs during close encounters. However, the average distance between Earth and Mars is roughly 225 million kilometers, as they can be much farther apart. \\n\\nWhen Mars is in opposition, which happens approximately every two years, it can be as far as 401 million kilometers from Earth. The vast distances in space make even the closest encounters between Earth and Mars incredibly vast compared to distances on our home planet.'}"
      ]
     },
     "execution_count": 7,
     "metadata": {},
     "output_type": "execute_result"
    }
   ],
   "source": [
    "workflow.invoke({'question': \"tell me the distance between and earth and mars\"})\n"
   ]
  },
  {
   "cell_type": "code",
   "execution_count": null,
   "id": "7097c8eb",
   "metadata": {},
   "outputs": [],
   "source": []
  }
 ],
 "metadata": {
  "kernelspec": {
   "display_name": ".venv",
   "language": "python",
   "name": "python3"
  },
  "language_info": {
   "codemirror_mode": {
    "name": "ipython",
    "version": 3
   },
   "file_extension": ".py",
   "mimetype": "text/x-python",
   "name": "python",
   "nbconvert_exporter": "python",
   "pygments_lexer": "ipython3",
   "version": "3.11.7"
  }
 },
 "nbformat": 4,
 "nbformat_minor": 5
}
