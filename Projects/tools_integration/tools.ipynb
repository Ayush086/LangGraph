{
 "cells": [
  {
   "cell_type": "markdown",
   "id": "0c43d7ef",
   "metadata": {},
   "source": [
    "### Tools Integration in LangGraph"
   ]
  },
  {
   "cell_type": "code",
   "execution_count": 1,
   "id": "a9e58fd7",
   "metadata": {},
   "outputs": [],
   "source": [
    "from langgraph.graph import StateGraph, START, END\n",
    "from typing import TypedDict, Annotated\n",
    "from langchain_core.messages import BaseMessage, HumanMessage\n",
    "from langchain_cohere import ChatCohere\n",
    "from langgraph.graph.message import add_messages\n",
    "from dotenv import load_dotenv\n",
    "\n",
    "from langgraph.prebuilt import ToolNode, tools_condition\n",
    "from langchain_community.tools import DuckDuckGoSearchRun\n",
    "from langchain_core.tools import tool # used to build custom tools\n",
    "\n",
    "import requests\n",
    "import random\n"
   ]
  },
  {
   "cell_type": "code",
   "execution_count": 2,
   "id": "4d9b8b67",
   "metadata": {},
   "outputs": [
    {
     "data": {
      "text/plain": [
       "True"
      ]
     },
     "execution_count": 2,
     "metadata": {},
     "output_type": "execute_result"
    }
   ],
   "source": [
    "load_dotenv()\n"
   ]
  },
  {
   "cell_type": "code",
   "execution_count": 3,
   "id": "f7b28959",
   "metadata": {},
   "outputs": [],
   "source": [
    "llm = ChatCohere(model='command-r')\n"
   ]
  },
  {
   "cell_type": "code",
   "execution_count": 4,
   "id": "f56efaea",
   "metadata": {},
   "outputs": [],
   "source": [
    "#tools creation\n",
    "# pre-built tools\n",
    "search_tool = DuckDuckGoSearchRun(region='us-en')\n",
    "\n",
    "\n",
    "#custom tool\n",
    "@tool\n",
    "def calculator(first_number: float, second_number: float, operation: str) -> dict:\n",
    "    \"\"\"perform arithmetic operation on two numbers.\n",
    "    valid operations: add, sub, mul, div\"\"\"\n",
    "    try: \n",
    "        if operation == 'add':\n",
    "            result = first_number + second_number\n",
    "        elif operation == 'sub':\n",
    "            result = first_number - second_number\n",
    "        elif operation == 'mul':\n",
    "            result = first_number * second_number\n",
    "        elif operation == 'div':\n",
    "            if second_number == 0:\n",
    "                return {'error': 'division by zero can not be done'}\n",
    "            result = first_number / second_number\n",
    "        else:\n",
    "            return {'error': f\"Unsupported Operation {operation}\"}\n",
    "        \n",
    "        return {'first_num': first_number, 'second_num': second_number, 'operation': operation, 'result': result}\n",
    "    except Exception as e:\n",
    "        return {'error': f'calculation failed. {str(e)}'}\n",
    "            \n",
    "@tool\n",
    "def stock_price_retriever_tool(symbol: str) -> dict:\n",
    "    \"\"\"Fetch latest stock price of given symbol (eg. 'TSLA') using alpha vantage with API key in URL\"\"\"\n",
    "    \n",
    "    url = f'https://www.alphavantage.co/query?function=GLOBAL_QUOTE&symbol={symbol}&apikey=C9BO8HP247123YIA'\n",
    "    r = requests.get(url)\n",
    "    \n",
    "    return r.json()\n"
   ]
  },
  {
   "cell_type": "code",
   "execution_count": 5,
   "id": "6963c2de",
   "metadata": {},
   "outputs": [],
   "source": [
    "# tools list for llm\n",
    "tools = [stock_price_retriever_tool, search_tool, calculator]\n",
    "\n",
    "# making llm aware of tools\n",
    "llm_with_tools = llm.bind_tools(tools)\n"
   ]
  },
  {
   "cell_type": "code",
   "execution_count": 6,
   "id": "4da0512d",
   "metadata": {},
   "outputs": [],
   "source": [
    "# graph state\n",
    "class ChatState(TypedDict):\n",
    "    messages: Annotated[list[BaseMessage], add_messages]\n"
   ]
  },
  {
   "cell_type": "code",
   "execution_count": 7,
   "id": "c261bad9",
   "metadata": {},
   "outputs": [],
   "source": [
    "# node definition\n",
    "def chat_node(state: ChatState):\n",
    "    \"\"\"LLM node that may answer or can request a tool call\"\"\"\n",
    "    messages = state['messages']\n",
    "    response = llm_with_tools.invoke(messages)\n",
    "    \n",
    "    return {'messages': [response]}\n",
    "\n",
    "tool_node = ToolNode(tools) # used to execute tool calls\n"
   ]
  },
  {
   "cell_type": "code",
   "execution_count": 8,
   "id": "5ea769cd",
   "metadata": {},
   "outputs": [
    {
     "data": {
      "text/plain": [
       "<langgraph.graph.state.StateGraph at 0x28f4bef1650>"
      ]
     },
     "execution_count": 8,
     "metadata": {},
     "output_type": "execute_result"
    }
   ],
   "source": [
    "# graph\n",
    "graph = StateGraph(ChatState)\n",
    "\n",
    "graph.add_node('chat_node', chat_node)\n",
    "graph.add_node('tools', tool_node)\n"
   ]
  },
  {
   "cell_type": "code",
   "execution_count": 9,
   "id": "ee658a03",
   "metadata": {},
   "outputs": [
    {
     "data": {
      "text/plain": [
       "<langgraph.graph.state.StateGraph at 0x28f4bef1650>"
      ]
     },
     "execution_count": 9,
     "metadata": {},
     "output_type": "execute_result"
    }
   ],
   "source": [
    "# edges\n",
    "graph.add_edge(START, 'chat_node')\n",
    "\n",
    "# conditional edge to tool node\n",
    "graph.add_conditional_edges('chat_node', tools_condition) # condition is prebuilt, llm access tools if needed else provides the responses\n",
    "\n",
    "# to polish the response generated using tools\n",
    "graph.add_edge('tools', 'chat_node')\n"
   ]
  },
  {
   "cell_type": "code",
   "execution_count": 10,
   "id": "59e86955",
   "metadata": {},
   "outputs": [
    {
     "data": {
      "image/png": "[encoded data removed]",
      "text/plain": [
       "<langgraph.graph.state.CompiledStateGraph object at 0x0000028F4ADEE150>"
      ]
     },
     "execution_count": 10,
     "metadata": {},
     "output_type": "execute_result"
    }
   ],
   "source": [
    "workflow = graph.compile()\n",
    "\n",
    "workflow\n"
   ]
  },
  {
   "cell_type": "code",
   "execution_count": 11,
   "id": "b6de8d9d",
   "metadata": {},
   "outputs": [
    {
     "name": "stdout",
     "output_type": "stream",
     "text": [
      "Hey there! Not much, haha. How about you? Is there anything you'd like to discuss?\n"
     ]
    }
   ],
   "source": [
    "# testing\n",
    "\n",
    "response = workflow.invoke({'messages': [HumanMessage(content=\"hey, what's up?\")]})\n",
    "\n",
    "print(response['messages'][-1].content)\n"
   ]
  },
  {
   "cell_type": "code",
   "execution_count": 12,
   "id": "30a96b43",
   "metadata": {},
   "outputs": [
    {
     "name": "stdout",
     "output_type": "stream",
     "text": [
      "The answer to 34 + 34 is **68**.\n"
     ]
    }
   ],
   "source": [
    "# tool testing (calculator)\n",
    "res = workflow.invoke({'messages': [HumanMessage('what is 34+34')]})\n",
    "print(res['messages'][-1].content)\n"
   ]
  },
  {
   "cell_type": "code",
   "execution_count": 13,
   "id": "3430b026",
   "metadata": {},
   "outputs": [
    {
     "name": "stdout",
     "output_type": "stream",
     "text": [
      "The latest stock price of Google (GOOG) is $213.53.\n"
     ]
    }
   ],
   "source": [
    "# tool testing (stock price)\n",
    "res = workflow.invoke({'messages': [HumanMessage('what is the stock price of google ?')]})\n",
    "print(res['messages'][-1].content)\n"
   ]
  },
  {
   "cell_type": "code",
   "execution_count": 14,
   "id": "236aa293",
   "metadata": {},
   "outputs": [
    {
     "name": "stderr",
     "output_type": "stream",
     "text": [
      "d:\\LangGraph\\.venv\\Lib\\site-packages\\langchain_community\\utilities\\duckduckgo_search.py:63: RuntimeWarning: This package (`duckduckgo_search`) has been renamed to `ddgs`! Use `pip install ddgs` instead.\n",
      "  with DDGS() as ddgs:\n"
     ]
    },
    {
     "name": "stdout",
     "output_type": "stream",
     "text": [
      "The current president of China is Xi Jinping.\n"
     ]
    },
    {
     "name": "stderr",
     "output_type": "stream",
     "text": [
      "d:\\LangGraph\\.venv\\Lib\\site-packages\\cohere\\core\\unchecked_base_model.py:165: PydanticDeprecatedSince20: The `__fields__` attribute is deprecated, use `model_fields` instead. Deprecated in Pydantic V2.0 to be removed in V3.0. See Pydantic V2 Migration Guide at https://errors.pydantic.dev/2.11/migration/\n",
      "  if inner_type.__fields__[metadata.discriminant].default == objects_discriminant:\n"
     ]
    }
   ],
   "source": [
    "# tool testing (search)\n",
    "res = workflow.invoke({'messages': [HumanMessage('what is the name of china president ?')]})\n",
    "print(res['messages'][-1].content)\n"
   ]
  },
  {
   "cell_type": "code",
   "execution_count": 16,
   "id": "3386bd1c",
   "metadata": {},
   "outputs": [
    {
     "name": "stdout",
     "output_type": "stream",
     "text": [
      "The current stock price of Nvidia is $174.18. \n",
      "\n",
      "If 1$ = 80 INR, then the price of one share of Nvidia stock would be approximately **13,934.41 INR**.\n"
     ]
    },
    {
     "name": "stderr",
     "output_type": "stream",
     "text": [
      "d:\\LangGraph\\.venv\\Lib\\site-packages\\cohere\\core\\unchecked_base_model.py:165: PydanticDeprecatedSince20: The `__fields__` attribute is deprecated, use `model_fields` instead. Deprecated in Pydantic V2.0 to be removed in V3.0. See Pydantic V2 Migration Guide at https://errors.pydantic.dev/2.11/migration/\n",
      "  if inner_type.__fields__[metadata.discriminant].default == objects_discriminant:\n",
      "d:\\LangGraph\\.venv\\Lib\\site-packages\\cohere\\core\\unchecked_base_model.py:165: PydanticDeprecatedSince20: The `__fields__` attribute is deprecated, use `model_fields` instead. Deprecated in Pydantic V2.0 to be removed in V3.0. See Pydantic V2 Migration Guide at https://errors.pydantic.dev/2.11/migration/\n",
      "  if inner_type.__fields__[metadata.discriminant].default == objects_discriminant:\n"
     ]
    }
   ],
   "source": [
    "res = workflow.invoke({'messages': [HumanMessage('What is stock price of Nvidia, what will be the price in INR if 1$ = 80 INR')]})\n",
    "print(res['messages'][-1].content)\n"
   ]
  },
  {
   "cell_type": "code",
   "execution_count": null,
   "id": "c9db1138",
   "metadata": {},
   "outputs": [],
   "source": []
  }
 ],
 "metadata": {
  "kernelspec": {
   "display_name": ".venv (3.11.7)",
   "language": "python",
   "name": "python3"
  },
  "language_info": {
   "codemirror_mode": {
    "name": "ipython",
    "version": 3
   },
   "file_extension": ".py",
   "mimetype": "text/x-python",
   "name": "python",
   "nbconvert_exporter": "python",
   "pygments_lexer": "ipython3",
   "version": "3.11.7"
  }
 },
 "nbformat": 4,
 "nbformat_minor": 5
}
